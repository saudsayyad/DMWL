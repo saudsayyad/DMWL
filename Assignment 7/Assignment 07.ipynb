{
 "cells": [
  {
   "cell_type": "markdown",
   "id": "1093f1ab",
   "metadata": {},
   "source": [
    "<h2>DMWL<br>Assignment 07</h2>\n",
    "<b>Name: Saud Sayyad<br>Roll: 58<br>AB4</b>"
   ]
  },
  {
   "cell_type": "code",
   "execution_count": 1,
   "id": "499f6ead",
   "metadata": {
    "scrolled": true
   },
   "outputs": [],
   "source": [
    "#Implementation of Cosine similarity\n",
    "\n",
    "import string\n",
    "import pandas as pd\n",
    "import numpy as np\n",
    "from sklearn.metrics.pairwise import cosine_similarity\n",
    "from sklearn.feature_extraction.text import CountVectorizer\n",
    "from nltk.corpus import stopwords\n"
   ]
  },
  {
   "cell_type": "code",
   "execution_count": 2,
   "id": "0c463479",
   "metadata": {
    "scrolled": true
   },
   "outputs": [
    {
     "name": "stderr",
     "output_type": "stream",
     "text": [
      "[nltk_data] Downloading package stopwords to\n",
      "[nltk_data]     C:\\Users\\sauds\\AppData\\Roaming\\nltk_data...\n",
      "[nltk_data]   Package stopwords is already up-to-date!\n"
     ]
    },
    {
     "data": {
      "text/plain": [
       "True"
      ]
     },
     "execution_count": 2,
     "metadata": {},
     "output_type": "execute_result"
    }
   ],
   "source": [
    "import nltk\n",
    "nltk.download('stopwords')"
   ]
  },
  {
   "cell_type": "code",
   "execution_count": 3,
   "id": "6c336d80",
   "metadata": {},
   "outputs": [],
   "source": [
    "stopwords = stopwords.words('english')\n",
    "#stopwords are like 'I', 'me', 'myself', etc.\n",
    "sentences = [\n",
    "    'Pirates of the Caribbean: The Curse of the Black Pearl',\n",
    "    'Pirates of the Caribbean: Dead Men Tell No Tales',\n",
    "#     'Pirates of the Caribbean: Dead Mans Chest'\n",
    "]\n",
    "\n",
    "#Remove punctuations,Lowercase and stopwords  from a given string\n",
    "def clean_string(text):\n",
    "    text = ''.join([word for word in text if word not in string.punctuation])\n",
    "    text = text.lower()\n",
    "    text = ' '.join([word for word in text.split() if word not in stopwords])\n",
    "    \n",
    "    return text\n",
    "\n",
    "cleaned = list(map(clean_string, sentences))\n",
    "#cleaned"
   ]
  },
  {
   "cell_type": "code",
   "execution_count": 4,
   "id": "c2bf80c2",
   "metadata": {},
   "outputs": [
    {
     "data": {
      "text/plain": [
       "['pirates caribbean curse black pearl',\n",
       " 'pirates caribbean dead men tell tales']"
      ]
     },
     "execution_count": 4,
     "metadata": {},
     "output_type": "execute_result"
    }
   ],
   "source": [
    "cleaned"
   ]
  },
  {
   "cell_type": "code",
   "execution_count": 5,
   "id": "4d9851c8",
   "metadata": {},
   "outputs": [
    {
     "data": {
      "text/plain": [
       "array([[1, 1, 1, 0, 0, 1, 1, 0, 0],\n",
       "       [0, 1, 0, 1, 1, 0, 1, 1, 1]], dtype=int64)"
      ]
     },
     "execution_count": 5,
     "metadata": {},
     "output_type": "execute_result"
    }
   ],
   "source": [
    "vectorizer = CountVectorizer().fit_transform(cleaned)\n",
    "vectors = vectorizer.toarray()\n",
    "vectors"
   ]
  },
  {
   "cell_type": "code",
   "execution_count": 6,
   "id": "9e9a0d43",
   "metadata": {},
   "outputs": [],
   "source": [
    "def cosine(vec1, vec2):\n",
    "    vec1 = vec1.reshape(1,-1)\n",
    "    vec2 = vec2.reshape(1,-1)\n",
    "    return cosine_similarity(vec1,vec2)[0][0]"
   ]
  },
  {
   "cell_type": "code",
   "execution_count": 7,
   "id": "c1ff4b0f",
   "metadata": {},
   "outputs": [
    {
     "name": "stdout",
     "output_type": "stream",
     "text": [
      "Cosine Similarity score between two movies is 0.36514837167011077\n"
     ]
    }
   ],
   "source": [
    "print(\"Cosine Similarity score between two movies is\",cosine(vectors[0], vectors[1]))"
   ]
  },
  {
   "cell_type": "code",
   "execution_count": 8,
   "id": "7cd5619e",
   "metadata": {
    "scrolled": true
   },
   "outputs": [
    {
     "name": "stdout",
     "output_type": "stream",
     "text": [
      "Enter number of elements in vector: 4\n",
      "Enter element of first vector\n",
      "1\n",
      "2\n",
      "3\n",
      "4\n",
      "Enter element of second vector\n",
      "4\n",
      "3\n",
      "2\n",
      "1\n"
     ]
    }
   ],
   "source": [
    "n = int(input(\"Enter number of elements in vector: \"))\n",
    "\n",
    "# creating an empty list\n",
    "vect1 = []\n",
    "vect2 = []\n",
    "\n",
    "print(\"Enter element of first vector\") \n",
    "# iterating till the range\n",
    "for i in range(n):\n",
    "    inp = int(input())\n",
    "    vect1.append(inp) # adding the element\n",
    "\n",
    "print(\"Enter element of second vector\")\n",
    "for i in range(n):\n",
    "    inp1 = int(input())\n",
    "    vect2.append(inp1) # adding the element"
   ]
  },
  {
   "cell_type": "code",
   "execution_count": 9,
   "id": "0c097613",
   "metadata": {},
   "outputs": [],
   "source": [
    "#Implementation of Euclidean and Manhatten distance\n",
    "\n",
    "from math import*\n",
    "\n",
    "#Euclidean Distance\n",
    "def euclidean_dist(x,y):\n",
    "    return sqrt(sum(pow(a-b,2) for a, b in zip(x,y)))\n",
    "\n",
    "#Manhatten Distance\n",
    "def manhatten_dist(x,y):\n",
    "    return sum(abs(a-b) for a,b in zip(x,y))\n",
    "\n",
    "# Implementation of Minkowski Distance\n",
    "from decimal import Decimal\n",
    "\n",
    "def nth_root(value, n_root):\n",
    "    root_value = 1/float(n_root)\n",
    "    return round(Decimal(value)**Decimal(root_value),3)\n",
    "\n",
    "def minkowski_dist(x,y,p_value):\n",
    "    return nth_root(sum(pow(abs(a-b),p_value) for a,b in zip(x,y)),p_value)\n"
   ]
  },
  {
   "cell_type": "code",
   "execution_count": 10,
   "id": "1e76687a",
   "metadata": {},
   "outputs": [],
   "source": [
    "#Print Euclidean Distance\n",
    "#print(\"Euclidean distance between vector x and y is\",euclidean_dist([0,3,4,5],[7,6,3,-1]))"
   ]
  },
  {
   "cell_type": "code",
   "execution_count": 11,
   "id": "69876c81",
   "metadata": {},
   "outputs": [],
   "source": [
    "#Print Manhatten Distance\n",
    "#print(\"Manhatten distance between vector x and y is\",manhatten_dist([10,20,10],[10,20,20]))"
   ]
  },
  {
   "cell_type": "code",
   "execution_count": 12,
   "id": "50ccfe66",
   "metadata": {},
   "outputs": [],
   "source": [
    "#Print Euclidean Distance\n",
    "#print(\"Minkowski distance between vector x and y is\",minkowski_dist([0,3,4,5],[7,6,3,-1],3))"
   ]
  },
  {
   "cell_type": "code",
   "execution_count": 13,
   "id": "400aea0b",
   "metadata": {},
   "outputs": [
    {
     "name": "stdout",
     "output_type": "stream",
     "text": [
      "Euclidean distance between vector is 4.47213595499958\n",
      "Manhatten distance between vector is 8\n",
      "Minkowski distance between vector is 3.826\n"
     ]
    }
   ],
   "source": [
    "#Print Euclidean Distance\n",
    "print(\"Euclidean distance between vector is\",euclidean_dist(vect1,vect2))\n",
    "\n",
    "#Print Manhatten Distance\n",
    "print(\"Manhatten distance between vector is\",manhatten_dist(vect1,vect2))\n",
    "\n",
    "#Print Euclidean Distance\n",
    "print(\"Minkowski distance between vector is\",minkowski_dist(vect1,vect2,3))"
   ]
  },
  {
   "cell_type": "code",
   "execution_count": null,
   "id": "896825b1",
   "metadata": {},
   "outputs": [],
   "source": []
  }
 ],
 "metadata": {
  "kernelspec": {
   "display_name": "Python 3 (ipykernel)",
   "language": "python",
   "name": "python3"
  },
  "language_info": {
   "codemirror_mode": {
    "name": "ipython",
    "version": 3
   },
   "file_extension": ".py",
   "mimetype": "text/x-python",
   "name": "python",
   "nbconvert_exporter": "python",
   "pygments_lexer": "ipython3",
   "version": "3.11.0"
  }
 },
 "nbformat": 4,
 "nbformat_minor": 5
}
